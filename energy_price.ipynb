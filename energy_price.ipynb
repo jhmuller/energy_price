{
  "nbformat": 4,
  "nbformat_minor": 0,
  "metadata": {
    "colab": {
      "provenance": [],
      "authorship_tag": "ABX9TyMcQh9OUZMNMAtBZ58bigQ1",
      "include_colab_link": true
    },
    "kernelspec": {
      "name": "python3",
      "display_name": "Python 3"
    },
    "language_info": {
      "name": "python"
    }
  },
  "cells": [
    {
      "cell_type": "markdown",
      "metadata": {
        "id": "view-in-github",
        "colab_type": "text"
      },
      "source": [
        "<a href=\"https://colab.research.google.com/github/jhmuller/energy_price/blob/main/energy_price.ipynb\" target=\"_parent\"><img src=\"https://colab.research.google.com/assets/colab-badge.svg\" alt=\"Open In Colab\"/></a>"
      ]
    },
    {
      "cell_type": "code",
      "execution_count": 8,
      "metadata": {
        "id": "pGV7YDJ0OEmN"
      },
      "outputs": [],
      "source": [
        "import os\n",
        "import pandas as pd"
      ]
    },
    {
      "cell_type": "code",
      "source": [
        "from google.colab import drive\n",
        "drive.mount('/content/drive')"
      ],
      "metadata": {
        "colab": {
          "base_uri": "https://localhost:8080/"
        },
        "id": "68qyyja5OGrO",
        "outputId": "58a7e81e-cd1a-422c-e6f0-bf99fc399b45"
      },
      "execution_count": 2,
      "outputs": [
        {
          "output_type": "stream",
          "name": "stdout",
          "text": [
            "Mounted at /content/drive\n"
          ]
        }
      ]
    },
    {
      "cell_type": "code",
      "source": [
        "dd = \"/content/drive/MyDrive/data\"\n",
        "os.listdir(dd)\n",
        "fpath = os.path.join(dd, \"energy.xlsx\")"
      ],
      "metadata": {
        "id": "IUTemAxBOVVG"
      },
      "execution_count": 9,
      "outputs": []
    },
    {
      "cell_type": "code",
      "source": [
        "df = pd.read_excel(fpath)"
      ],
      "metadata": {
        "id": "1PN8x5N9OfE6"
      },
      "execution_count": 10,
      "outputs": []
    },
    {
      "cell_type": "code",
      "source": [
        "df.head()"
      ],
      "metadata": {
        "colab": {
          "base_uri": "https://localhost:8080/",
          "height": 334
        },
        "id": "Re2KQkczOp3W",
        "outputId": "be868df2-b831-48dc-d699-6a6a89c50844"
      },
      "execution_count": 11,
      "outputs": [
        {
          "output_type": "execute_result",
          "data": {
            "text/plain": [
              "  Unnamed: 0 Unnamed: 1 Unnamed: 2   Unnamed: 3       RESIDENTIAL  \\\n",
              "0        NaN        NaN        NaN          NaN           Revenue   \n",
              "1       Year      Month      State  Data Status  Thousand Dollars   \n",
              "2       2022          9         AK  Preliminary          32819.84   \n",
              "3       2022          9         AL  Preliminary         442015.68   \n",
              "4       2022          9         AR  Preliminary         220271.77   \n",
              "\n",
              "      Unnamed: 5 Unnamed: 6 Unnamed: 7        COMMERCIAL     Unnamed: 9  ...  \\\n",
              "0          Sales  Customers      Price           Revenue          Sales  ...   \n",
              "1  Megawatthours      Count  Cents/kWh  Thousand Dollars  Megawatthours  ...   \n",
              "2      142198.86     296767      23.08          39972.69      200620.72  ...   \n",
              "3      2822297.2    2344034      15.66         290203.68      2044990.4  ...   \n",
              "4      1694794.2    1451459         13         120345.42      1119295.3  ...   \n",
              "\n",
              "  Unnamed: 14 Unnamed: 15    TRANSPORTATION    Unnamed: 17 Unnamed: 18  \\\n",
              "0   Customers       Price           Revenue          Sales   Customers   \n",
              "1       Count   Cents/kWh  Thousand Dollars  Megawatthours       Count   \n",
              "2        1163       15.43                 0              0           0   \n",
              "3        8009         8.6                 0              0           0   \n",
              "4       41623        8.27              4.06           27.4           2   \n",
              "\n",
              "  Unnamed: 19             TOTAL    Unnamed: 21 Unnamed: 22 Unnamed: 23  \n",
              "0       Price           Revenue          Sales   Customers       Price  \n",
              "1   Cents/kWh  Thousand Dollars  Megawatthours       Count   Cents/kWh  \n",
              "2           0          91245.04      462384.12      355145       19.73  \n",
              "3           0         956084.53      7469965.2     2732313        12.8  \n",
              "4       14.82         467922.07      4354159.6     1697719       10.75  \n",
              "\n",
              "[5 rows x 24 columns]"
            ],
            "text/html": [
              "\n",
              "  <div id=\"df-7ef8c09b-f606-44ed-9985-6ad144128a26\">\n",
              "    <div class=\"colab-df-container\">\n",
              "      <div>\n",
              "<style scoped>\n",
              "    .dataframe tbody tr th:only-of-type {\n",
              "        vertical-align: middle;\n",
              "    }\n",
              "\n",
              "    .dataframe tbody tr th {\n",
              "        vertical-align: top;\n",
              "    }\n",
              "\n",
              "    .dataframe thead th {\n",
              "        text-align: right;\n",
              "    }\n",
              "</style>\n",
              "<table border=\"1\" class=\"dataframe\">\n",
              "  <thead>\n",
              "    <tr style=\"text-align: right;\">\n",
              "      <th></th>\n",
              "      <th>Unnamed: 0</th>\n",
              "      <th>Unnamed: 1</th>\n",
              "      <th>Unnamed: 2</th>\n",
              "      <th>Unnamed: 3</th>\n",
              "      <th>RESIDENTIAL</th>\n",
              "      <th>Unnamed: 5</th>\n",
              "      <th>Unnamed: 6</th>\n",
              "      <th>Unnamed: 7</th>\n",
              "      <th>COMMERCIAL</th>\n",
              "      <th>Unnamed: 9</th>\n",
              "      <th>...</th>\n",
              "      <th>Unnamed: 14</th>\n",
              "      <th>Unnamed: 15</th>\n",
              "      <th>TRANSPORTATION</th>\n",
              "      <th>Unnamed: 17</th>\n",
              "      <th>Unnamed: 18</th>\n",
              "      <th>Unnamed: 19</th>\n",
              "      <th>TOTAL</th>\n",
              "      <th>Unnamed: 21</th>\n",
              "      <th>Unnamed: 22</th>\n",
              "      <th>Unnamed: 23</th>\n",
              "    </tr>\n",
              "  </thead>\n",
              "  <tbody>\n",
              "    <tr>\n",
              "      <th>0</th>\n",
              "      <td>NaN</td>\n",
              "      <td>NaN</td>\n",
              "      <td>NaN</td>\n",
              "      <td>NaN</td>\n",
              "      <td>Revenue</td>\n",
              "      <td>Sales</td>\n",
              "      <td>Customers</td>\n",
              "      <td>Price</td>\n",
              "      <td>Revenue</td>\n",
              "      <td>Sales</td>\n",
              "      <td>...</td>\n",
              "      <td>Customers</td>\n",
              "      <td>Price</td>\n",
              "      <td>Revenue</td>\n",
              "      <td>Sales</td>\n",
              "      <td>Customers</td>\n",
              "      <td>Price</td>\n",
              "      <td>Revenue</td>\n",
              "      <td>Sales</td>\n",
              "      <td>Customers</td>\n",
              "      <td>Price</td>\n",
              "    </tr>\n",
              "    <tr>\n",
              "      <th>1</th>\n",
              "      <td>Year</td>\n",
              "      <td>Month</td>\n",
              "      <td>State</td>\n",
              "      <td>Data Status</td>\n",
              "      <td>Thousand Dollars</td>\n",
              "      <td>Megawatthours</td>\n",
              "      <td>Count</td>\n",
              "      <td>Cents/kWh</td>\n",
              "      <td>Thousand Dollars</td>\n",
              "      <td>Megawatthours</td>\n",
              "      <td>...</td>\n",
              "      <td>Count</td>\n",
              "      <td>Cents/kWh</td>\n",
              "      <td>Thousand Dollars</td>\n",
              "      <td>Megawatthours</td>\n",
              "      <td>Count</td>\n",
              "      <td>Cents/kWh</td>\n",
              "      <td>Thousand Dollars</td>\n",
              "      <td>Megawatthours</td>\n",
              "      <td>Count</td>\n",
              "      <td>Cents/kWh</td>\n",
              "    </tr>\n",
              "    <tr>\n",
              "      <th>2</th>\n",
              "      <td>2022</td>\n",
              "      <td>9</td>\n",
              "      <td>AK</td>\n",
              "      <td>Preliminary</td>\n",
              "      <td>32819.84</td>\n",
              "      <td>142198.86</td>\n",
              "      <td>296767</td>\n",
              "      <td>23.08</td>\n",
              "      <td>39972.69</td>\n",
              "      <td>200620.72</td>\n",
              "      <td>...</td>\n",
              "      <td>1163</td>\n",
              "      <td>15.43</td>\n",
              "      <td>0</td>\n",
              "      <td>0</td>\n",
              "      <td>0</td>\n",
              "      <td>0</td>\n",
              "      <td>91245.04</td>\n",
              "      <td>462384.12</td>\n",
              "      <td>355145</td>\n",
              "      <td>19.73</td>\n",
              "    </tr>\n",
              "    <tr>\n",
              "      <th>3</th>\n",
              "      <td>2022</td>\n",
              "      <td>9</td>\n",
              "      <td>AL</td>\n",
              "      <td>Preliminary</td>\n",
              "      <td>442015.68</td>\n",
              "      <td>2822297.2</td>\n",
              "      <td>2344034</td>\n",
              "      <td>15.66</td>\n",
              "      <td>290203.68</td>\n",
              "      <td>2044990.4</td>\n",
              "      <td>...</td>\n",
              "      <td>8009</td>\n",
              "      <td>8.6</td>\n",
              "      <td>0</td>\n",
              "      <td>0</td>\n",
              "      <td>0</td>\n",
              "      <td>0</td>\n",
              "      <td>956084.53</td>\n",
              "      <td>7469965.2</td>\n",
              "      <td>2732313</td>\n",
              "      <td>12.8</td>\n",
              "    </tr>\n",
              "    <tr>\n",
              "      <th>4</th>\n",
              "      <td>2022</td>\n",
              "      <td>9</td>\n",
              "      <td>AR</td>\n",
              "      <td>Preliminary</td>\n",
              "      <td>220271.77</td>\n",
              "      <td>1694794.2</td>\n",
              "      <td>1451459</td>\n",
              "      <td>13</td>\n",
              "      <td>120345.42</td>\n",
              "      <td>1119295.3</td>\n",
              "      <td>...</td>\n",
              "      <td>41623</td>\n",
              "      <td>8.27</td>\n",
              "      <td>4.06</td>\n",
              "      <td>27.4</td>\n",
              "      <td>2</td>\n",
              "      <td>14.82</td>\n",
              "      <td>467922.07</td>\n",
              "      <td>4354159.6</td>\n",
              "      <td>1697719</td>\n",
              "      <td>10.75</td>\n",
              "    </tr>\n",
              "  </tbody>\n",
              "</table>\n",
              "<p>5 rows × 24 columns</p>\n",
              "</div>\n",
              "      <button class=\"colab-df-convert\" onclick=\"convertToInteractive('df-7ef8c09b-f606-44ed-9985-6ad144128a26')\"\n",
              "              title=\"Convert this dataframe to an interactive table.\"\n",
              "              style=\"display:none;\">\n",
              "        \n",
              "  <svg xmlns=\"http://www.w3.org/2000/svg\" height=\"24px\"viewBox=\"0 0 24 24\"\n",
              "       width=\"24px\">\n",
              "    <path d=\"M0 0h24v24H0V0z\" fill=\"none\"/>\n",
              "    <path d=\"M18.56 5.44l.94 2.06.94-2.06 2.06-.94-2.06-.94-.94-2.06-.94 2.06-2.06.94zm-11 1L8.5 8.5l.94-2.06 2.06-.94-2.06-.94L8.5 2.5l-.94 2.06-2.06.94zm10 10l.94 2.06.94-2.06 2.06-.94-2.06-.94-.94-2.06-.94 2.06-2.06.94z\"/><path d=\"M17.41 7.96l-1.37-1.37c-.4-.4-.92-.59-1.43-.59-.52 0-1.04.2-1.43.59L10.3 9.45l-7.72 7.72c-.78.78-.78 2.05 0 2.83L4 21.41c.39.39.9.59 1.41.59.51 0 1.02-.2 1.41-.59l7.78-7.78 2.81-2.81c.8-.78.8-2.07 0-2.86zM5.41 20L4 18.59l7.72-7.72 1.47 1.35L5.41 20z\"/>\n",
              "  </svg>\n",
              "      </button>\n",
              "      \n",
              "  <style>\n",
              "    .colab-df-container {\n",
              "      display:flex;\n",
              "      flex-wrap:wrap;\n",
              "      gap: 12px;\n",
              "    }\n",
              "\n",
              "    .colab-df-convert {\n",
              "      background-color: #E8F0FE;\n",
              "      border: none;\n",
              "      border-radius: 50%;\n",
              "      cursor: pointer;\n",
              "      display: none;\n",
              "      fill: #1967D2;\n",
              "      height: 32px;\n",
              "      padding: 0 0 0 0;\n",
              "      width: 32px;\n",
              "    }\n",
              "\n",
              "    .colab-df-convert:hover {\n",
              "      background-color: #E2EBFA;\n",
              "      box-shadow: 0px 1px 2px rgba(60, 64, 67, 0.3), 0px 1px 3px 1px rgba(60, 64, 67, 0.15);\n",
              "      fill: #174EA6;\n",
              "    }\n",
              "\n",
              "    [theme=dark] .colab-df-convert {\n",
              "      background-color: #3B4455;\n",
              "      fill: #D2E3FC;\n",
              "    }\n",
              "\n",
              "    [theme=dark] .colab-df-convert:hover {\n",
              "      background-color: #434B5C;\n",
              "      box-shadow: 0px 1px 3px 1px rgba(0, 0, 0, 0.15);\n",
              "      filter: drop-shadow(0px 1px 2px rgba(0, 0, 0, 0.3));\n",
              "      fill: #FFFFFF;\n",
              "    }\n",
              "  </style>\n",
              "\n",
              "      <script>\n",
              "        const buttonEl =\n",
              "          document.querySelector('#df-7ef8c09b-f606-44ed-9985-6ad144128a26 button.colab-df-convert');\n",
              "        buttonEl.style.display =\n",
              "          google.colab.kernel.accessAllowed ? 'block' : 'none';\n",
              "\n",
              "        async function convertToInteractive(key) {\n",
              "          const element = document.querySelector('#df-7ef8c09b-f606-44ed-9985-6ad144128a26');\n",
              "          const dataTable =\n",
              "            await google.colab.kernel.invokeFunction('convertToInteractive',\n",
              "                                                     [key], {});\n",
              "          if (!dataTable) return;\n",
              "\n",
              "          const docLinkHtml = 'Like what you see? Visit the ' +\n",
              "            '<a target=\"_blank\" href=https://colab.research.google.com/notebooks/data_table.ipynb>data table notebook</a>'\n",
              "            + ' to learn more about interactive tables.';\n",
              "          element.innerHTML = '';\n",
              "          dataTable['output_type'] = 'display_data';\n",
              "          await google.colab.output.renderOutput(dataTable, element);\n",
              "          const docLink = document.createElement('div');\n",
              "          docLink.innerHTML = docLinkHtml;\n",
              "          element.appendChild(docLink);\n",
              "        }\n",
              "      </script>\n",
              "    </div>\n",
              "  </div>\n",
              "  "
            ]
          },
          "metadata": {},
          "execution_count": 11
        }
      ]
    },
    {
      "cell_type": "code",
      "source": [
        "df.columns"
      ],
      "metadata": {
        "colab": {
          "base_uri": "https://localhost:8080/"
        },
        "id": "BIbf_mfYO3HD",
        "outputId": "7fa7ba8e-aa77-43f9-8a44-53dd7b20f67a"
      },
      "execution_count": 12,
      "outputs": [
        {
          "output_type": "execute_result",
          "data": {
            "text/plain": [
              "Index(['Unnamed: 0', 'Unnamed: 1', 'Unnamed: 2', 'Unnamed: 3', 'RESIDENTIAL',\n",
              "       'Unnamed: 5', 'Unnamed: 6', 'Unnamed: 7', 'COMMERCIAL', 'Unnamed: 9',\n",
              "       'Unnamed: 10', 'Unnamed: 11', 'INDUSTRIAL', 'Unnamed: 13',\n",
              "       'Unnamed: 14', 'Unnamed: 15', 'TRANSPORTATION', 'Unnamed: 17',\n",
              "       'Unnamed: 18', 'Unnamed: 19', 'TOTAL', 'Unnamed: 21', 'Unnamed: 22',\n",
              "       'Unnamed: 23'],\n",
              "      dtype='object')"
            ]
          },
          "metadata": {},
          "execution_count": 12
        }
      ]
    },
    {
      "cell_type": "code",
      "source": [],
      "metadata": {
        "id": "5MViJtGPO7KK"
      },
      "execution_count": null,
      "outputs": []
    }
  ]
}